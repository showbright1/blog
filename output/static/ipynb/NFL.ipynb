{
 "metadata": {
  "name": "NFL-FantasyExplorer"
 },
 "nbformat": 3,
 "nbformat_minor": 0,
 "worksheets": [
  {
   "cells": [
    {
     "cell_type": "markdown",
     "metadata": {},
     "source": [
      "## NFLgame is a Python package that allows programmatic access to NFL data "
     ]
    },
    {
     "cell_type": "markdown",
     "metadata": {},
     "source": [
      "The Github repo is located [here](https://github.com/BurntSushi/nflgame)"
     ]
    },
    {
     "cell_type": "code",
     "collapsed": false,
     "input": [
      "import nflgame"
     ],
     "language": "python",
     "metadata": {},
     "outputs": [
      {
       "output_type": "stream",
       "stream": "stderr",
       "text": [
        "/Users/michaelmartinez/.virtualenvs/play-ipyn/lib/python2.7/site-packages/pytz/__init__.py:35: UserWarning: Module readline was already imported from /Users/michaelmartinez/.virtualenvs/play-ipyn/lib/python2.7/lib-dynload/readline.so, but /Users/michaelmartinez/.virtualenvs/play-ipyn/lib/python2.7/site-packages is being added to sys.path\n",
        "  from pkg_resources import resource_stream\n"
       ]
      }
     ],
     "prompt_number": 1
    },
    {
     "cell_type": "markdown",
     "metadata": {},
     "source": [
      "### Lets have a look at some basic stats for the last 3 games of the NFL Regular season..."
     ]
    },
    {
     "cell_type": "markdown",
     "metadata": {},
     "source": [
      "First we'll have a look at the top 25 rushers for weeks 15, 16, 17"
     ]
    },
    {
     "cell_type": "code",
     "collapsed": false,
     "input": [
      "games = nflgame.games(2012, week=[15, 16, 17])\n",
      "players = nflgame.combine(games)\n",
      "for p in players.rushing().sort(\"rushing_yds\").limit(25):\n",
      "    print p, p.rushing_yds"
     ],
     "language": "python",
     "metadata": {},
     "outputs": [
      {
       "output_type": "stream",
       "stream": "stdout",
       "text": [
        "A.Peterson 497\n",
        "A.Morris 378\n",
        "M.Lynch 324\n",
        "D.Williams 322\n",
        "C.Spiller 300\n",
        "J.Charles 289\n",
        "A.Foster 276\n",
        "M.Forte 260\n",
        "V.Ballard 252\n",
        "K.Moreno 240\n",
        "B.Pierce 232\n",
        "D.Martin 220\n",
        "S.Jackson 206\n",
        "C.Johnson 206\n",
        "D.McFadden 200\n",
        "D.Murray 197\n",
        "R.Bush 195\n",
        "M.Ingram 182\n",
        "S.Ridley 181\n",
        "S.Greene 180\n",
        "R.Wilson 179\n",
        "F.Gore 179\n",
        "M.Leshoure 158\n",
        "R.Rice 150\n",
        "D.Wilson 147\n"
       ]
      }
     ],
     "prompt_number": 15
    },
    {
     "cell_type": "markdown",
     "metadata": {},
     "source": [
      "Next, we'll look at the top 25 running backs and the total amount of touchdowns for weeks 15, 16, 17 using the players variable we created above. "
     ]
    },
    {
     "cell_type": "code",
     "collapsed": false,
     "input": [
      "for p in players.touchdowns().sort(\"rushing_tds\").limit(25):\n",
      "    print p, p.rushing_tds"
     ],
     "language": "python",
     "metadata": {},
     "outputs": [
      {
       "output_type": "stream",
       "stream": "stdout",
       "text": [
        "A.Morris 6\n",
        "M.Tolbert 5\n",
        "R.Wilson 4\n",
        "C.Wells 3\n",
        "M.Forte 2\n",
        "R.Grant 2\n",
        "M.Turner 2\n",
        "M.Ingram 2\n",
        "A.Peterson 2\n",
        "T.Richardson 2\n",
        "K.Moreno 2\n",
        "J.Hester 2\n",
        "M.Leshoure 2\n",
        "D.Williams 2\n",
        "M.Lynch 2\n",
        "S.Ridley 2\n",
        "D.Woodhead 2\n",
        "C.Johnson 2\n",
        "S.Greene 2\n",
        "D.Lewis 1\n",
        "A.Dalton 1\n",
        "B.Green-Ellis 1\n",
        "A.Rodgers 1\n",
        "D.Harris 1\n",
        "D.Wilson 1\n"
       ]
      }
     ],
     "prompt_number": 16
    },
    {
     "cell_type": "markdown",
     "metadata": {},
     "source": [
      "Fumbles are bad in fantasy football, umkay. Lets see the top 25 fumblers for the same weeks..."
     ]
    },
    {
     "cell_type": "code",
     "collapsed": false,
     "input": [
      "for p in players.fumbles().sort(\"fumbles_tot\").limit(25):\n",
      "    print p, p.fumbles_tot"
     ],
     "language": "python",
     "metadata": {},
     "outputs": [
      {
       "output_type": "stream",
       "stream": "stdout",
       "text": [
        "P.Rivers 4\n",
        "C.Kaepernick 4\n",
        "R.Tannehill 3\n",
        "M.Sanchez 3\n",
        "N.Foles 2\n",
        "A.Dalton 2\n",
        "J.Cutler 2\n",
        "M.Colston 2\n",
        "J.Freeman 2\n",
        "D.Amendola 2\n",
        "C.Ponder 2\n",
        "C.Henne 2\n",
        "T.Holliday 2\n",
        "M.Stafford 2\n",
        "R.Fitzpatrick 2\n",
        "D.Murray 2\n",
        "A.Brown 2\n",
        "D.Moore 2\n",
        "J.McKnight 2\n",
        "T.Yates 2\n",
        "C.Harbor 1\n",
        "J.Maclin 1\n",
        "C.Thornton 1\n",
        "A.Green 1\n",
        "M.Forte 1\n"
       ]
      }
     ],
     "prompt_number": 17
    },
    {
     "cell_type": "markdown",
     "metadata": {},
     "source": [
      "### Now lets have a go with a basic player on player comparison and see if we can dig up any help from the past "
     ]
    },
    {
     "cell_type": "markdown",
     "metadata": {},
     "source": [
      "In my first week of the 2012 Fantasy Football season I had the RB match up between Marshawn Lynch and Frank Gore. My team started M. \"Beast Mode\" Lynch and I came up a bit short... could the outcome have been different with some analysis? I had other RB's on the bench. \n",
      "\n",
      "M. Lynch, player ID: 00-0025399\n",
      "\n",
      "F. Gore, player ID: 00-0023500\n",
      "\n",
      "The player can be looked up by name or player ID. Iterate through the list of player in `for` loop and `print p.playerid` or `print p.name` ... or just look in players.json and use `control-f` , then start typing a players name to find all the available fields for each player."
     ]
    },
    {
     "cell_type": "code",
     "collapsed": false,
     "input": [
      "week1 = nflgame.games(2012, week=1)\n",
      "players = nflgame.combine(week1)\n",
      "for p in players.rushing().sort(\"rushing_yds\").limit(25):\n",
      "    if p.playerid == \"00-0025399\" or p.playerid == \"00-0023500\":\n",
      "        print \"--------\"\n",
      "        print p.player, p.formatted_stats()\n",
      "\n",
      "print \"-------\"\n"
     ],
     "language": "python",
     "metadata": {},
     "outputs": [
      {
       "output_type": "stream",
       "stream": "stdout",
       "text": [
        "--------\n",
        "Frank Gore (RB, SF) rushing_lngtd: 23, rushing_tds: 1, rushing_twopta: 0, rushing_lng: 23, rushing_yds: 112, rushing_att: 16, rushing_twoptm: 0, receiving_tds: 0, receiving_lng: 1, receiving_rec: 1, receiving_twopta: 0, receiving_yds: 1, receiving_lngtd: 0, receiving_twoptm: 0\n",
        "--------\n",
        "Marshawn Lynch (RB, SEA) rushing_lngtd: 0, rushing_tds: 0, rushing_twopta: 0, rushing_lng: 11, rushing_yds: 85, rushing_att: 21, rushing_twoptm: 0, receiving_tds: 0, receiving_lng: 7, receiving_rec: 2, receiving_twopta: 0, receiving_yds: 12, receiving_lngtd: 0, receiving_twoptm: 0, fumbles_trcv: 0, fumbles_tot: 1, fumbles_rcv: 0, fumbles_yds: 0, fumbles_lost: 0\n",
        "-------\n"
       ]
      }
     ],
     "prompt_number": 85
    },
    {
     "cell_type": "markdown",
     "metadata": {},
     "source": [
      "Lets have a look at the last three match-ups between the 49'ers and the Seahawks"
     ]
    },
    {
     "cell_type": "code",
     "collapsed": false,
     "input": [
      "game12 = nflgame.one(2012, 7, \"SF\", \"SEA\")\n",
      "print game12.nice_score()\n",
      "print '*****'\n",
      "print \"2012 Away team: %s\" % (game12.away)\n",
      "# convert the named tuple to dict and iterate with items\n",
      "for i, v in game12.stats_away._asdict().items():\n",
      "    print i, v\n",
      "print '-------'\n",
      "print \"2012 Home team: %s\" %game11.home\n",
      "# convert the named tuple to dict and iterate with items\n",
      "for i, v in game11.stats_home._asdict().items():\n",
      "    print i, v\n",
      "\n",
      "print '-------'"
     ],
     "language": "python",
     "metadata": {},
     "outputs": [
      {
       "output_type": "stream",
       "stream": "stdout",
       "text": [
        "SF (13) vs. SEA (6)\n",
        "*****\n",
        "2012 Away team: SEA\n",
        "first_downs 13\n",
        "total_yds 251\n",
        "passing_yds 115\n",
        "rushing_yds 136\n",
        "penalty_cnt 3\n",
        "penalty_yds 20\n",
        "turnovers 1\n",
        "punt_cnt 4\n",
        "punt_yds 194\n",
        "punt_avg 31\n",
        "pos_time 27:59\n",
        "-------\n",
        "2012 Home team: SF\n",
        "first_downs 12\n",
        "total_yds 209\n",
        "passing_yds 124\n",
        "rushing_yds 85\n",
        "penalty_cnt 9\n",
        "penalty_yds 102\n",
        "turnovers 0\n",
        "punt_cnt 5\n",
        "punt_yds 298\n",
        "punt_avg 54\n",
        "pos_time 31:07\n",
        "-------\n"
       ]
      }
     ],
     "prompt_number": 144
    },
    {
     "cell_type": "code",
     "collapsed": false,
     "input": [
      "game11 = nflgame.one(2011, 1, \"SF\", \"SEA\")\n",
      "print game11.nice_score()\n",
      "print '*****'\n",
      "print \"2011 Away team: %s\" % (game11.away)\n",
      "# convert the named tuple to dict and iterate with items\n",
      "for i, v in game11.stats_away._asdict().items():\n",
      "    print i, v\n",
      "print '-------'\n",
      "print \"2011 Home team: %s\" %game11.home\n",
      "# convert the named tuple to dict and iterate with items\n",
      "for i, v in game11.stats_home._asdict().items():\n",
      "    print i, v\n",
      "\n",
      "print '-------'\n",
      "week_11 = nflgame.games(2011, week=1)\n",
      "players = nflgame.combine(week_11)\n",
      "for p in players.rushing().sort(\"rushing_yds\").limit(25):\n",
      "    if p.playerid == \"00-0025399\" or p.playerid == \"00-0023500\":\n",
      "        print \"--------\"\n",
      "        print p.player, p.formatted_stats()\n",
      "\n",
      "print \"-------\""
     ],
     "language": "python",
     "metadata": {},
     "outputs": [
      {
       "output_type": "stream",
       "stream": "stdout",
       "text": [
        "SF (33) vs. SEA (17)\n",
        "*****\n",
        "2011 Away team: SEA\n",
        "first_downs 18\n",
        "total_yds 219\n",
        "passing_yds 155\n",
        "rushing_yds 64\n",
        "penalty_cnt 11\n",
        "penalty_yds 72\n",
        "turnovers 3\n",
        "punt_cnt 7\n",
        "punt_yds 342\n",
        "punt_avg 33\n",
        "pos_time 28:53\n",
        "-------\n",
        "2011 Home team: SF\n",
        "first_downs 12\n",
        "total_yds 209\n",
        "passing_yds 124\n",
        "rushing_yds 85\n",
        "penalty_cnt 9\n",
        "penalty_yds 102\n",
        "turnovers 0\n",
        "punt_cnt 5\n",
        "punt_yds 298\n",
        "punt_avg 54\n",
        "pos_time 31:07\n",
        "-------\n",
        "--------"
       ]
      },
      {
       "output_type": "stream",
       "stream": "stdout",
       "text": [
        "\n",
        "Frank Gore (RB, SF) rushing_lngtd: 0, rushing_tds: 0, rushing_twopta: 0, rushing_lng: 16, rushing_yds: 59, rushing_att: 22, rushing_twoptm: 0, receiving_tds: 0, receiving_lng: 12, receiving_rec: 3, receiving_twopta: 0, receiving_yds: 19, receiving_lngtd: 0, receiving_twoptm: 0\n",
        "-------\n"
       ]
      }
     ],
     "prompt_number": 145
    },
    {
     "cell_type": "code",
     "collapsed": false,
     "input": [
      "game10 = nflgame.one(2010, 1, \"SEA\", \"SF\")\n",
      "print game10.nice_score()\n",
      "print '*****'\n",
      "print \"2010 Away team: %s\" % (game10.away)\n",
      "# convert the named tuple to dict and iterate with items\n",
      "for i, v in game10.stats_away._asdict().items():\n",
      "    print i, v\n",
      "print '-------'\n",
      "print \"2010 Home team: %s\" %game10.home\n",
      "# convert the named tuple to dict and iterate with items\n",
      "for i, v in game10.stats_home._asdict().items():\n",
      "    print i, v\n",
      "\n",
      "print '-------'\n",
      "week_10 = nflgame.games(2010, week=1)\n",
      "players = nflgame.combine(week_10)\n",
      "for p in players.rushing().sort(\"rushing_yds\").limit(25):\n",
      "    if p.playerid == \"00-0025399\" or p.playerid == \"00-0023500\":\n",
      "        print \"--------\" \n",
      "        print p.player, p.formatted_stats()\n",
      "\n",
      "print \"-------\""
     ],
     "language": "python",
     "metadata": {},
     "outputs": [
      {
       "output_type": "stream",
       "stream": "stdout",
       "text": [
        "SEA (31) vs. SF (6)\n",
        "*****\n",
        "2010 Away team: SF\n",
        "first_downs 14\n",
        "total_yds 263\n",
        "passing_yds 214\n",
        "rushing_yds 49\n",
        "penalty_cnt 8\n",
        "penalty_yds 60\n",
        "turnovers 2\n",
        "punt_cnt 6\n",
        "punt_yds 249\n",
        "punt_avg 35\n",
        "pos_time 32:45\n",
        "-------\n",
        "2010 Home team: SEA\n",
        "first_downs 14\n",
        "total_yds 242\n",
        "passing_yds 165\n",
        "rushing_yds 77\n",
        "penalty_cnt 5\n",
        "penalty_yds 35\n",
        "turnovers 1\n",
        "punt_cnt 5\n",
        "punt_yds 207\n",
        "punt_avg 36\n",
        "pos_time 27:15\n",
        "-------\n",
        "-------"
       ]
      },
      {
       "output_type": "stream",
       "stream": "stdout",
       "text": [
        "\n"
       ]
      }
     ],
     "prompt_number": 151
    },
    {
     "cell_type": "markdown",
     "metadata": {},
     "source": [
      "We can see that Frank Gore played in the 2011 but not in 2010. Marshawn Lynch did not play in 2011 nor in 2010. So we took a look at the team stats for all three years to see if we can uncover actionable information. I think we will need to dig a bit further... however, I learned a bit about tuples in the process. "
     ]
    },
    {
     "cell_type": "markdown",
     "metadata": {},
     "source": [
      "The team stats are stored in game.py in the repo and are delivered as a `namedtuple()`. The `._asdict()` method on Named Tuples will return an ordered dict as described [here](http://docs.python.org/release/2.7.4/library/collections.html#collections.somenamedtuple._asdict). Once you have a dict, simply use (chain on) the `.items()` method to iterate over the key and value. If you want the keys or values by themselves, use the `.keys()` or `.values()` methods respectively.   "
     ]
    },
    {
     "cell_type": "markdown",
     "metadata": {},
     "source": [
      "I plan on using this extensively next season. In preperation, I have been learning statistics and the Pandas data analysis python library. "
     ]
    },
    {
     "cell_type": "markdown",
     "metadata": {},
     "source": [
      "#### Note: Everything I work on in this space is using iPython Notebook and will be published for you to run as well..."
     ]
    }
   ],
   "metadata": {}
  }
 ]
}