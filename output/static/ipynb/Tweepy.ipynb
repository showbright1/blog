{
 "metadata": {
  "name": "Twitter - Tweepy"
 },
 "nbformat": 3,
 "nbformat_minor": 0,
 "worksheets": [
  {
   "cells": [
    {
     "cell_type": "markdown",
     "metadata": {},
     "source": [
      "## Tweepy in iPython Notebook"
     ]
    },
    {
     "cell_type": "markdown",
     "metadata": {},
     "source": [
      "#### Note: when you need to get into the api for more data, it may make sense to cycle through oauth tokens"
     ]
    },
    {
     "cell_type": "markdown",
     "metadata": {},
     "source": [
      "This is to set-up tweepy and oauth to play with the Twitter API"
     ]
    },
    {
     "cell_type": "markdown",
     "metadata": {},
     "source": [
      "- google group is here: https://groups.google.com/forum/?fromgroups=#!forum/tweepy\n",
      "- docs here: http://packages.python.org/tweepy/html/index.html\n",
      "- github repo: https://github.com/tweepy/tweepy"
     ]
    },
    {
     "cell_type": "code",
     "collapsed": false,
     "input": [
      "import tweepy \n",
      "\n",
      "# The consumer keys can be found on your application's Details\n",
      "# page located at https://dev.twitter.com/apps (under \"OAuth settings\")\n",
      "consumer_key=\"<consumer key>"\n",
      "consumer_secret=\"<consumer secret>"\n",
      "\n",
      "# The access tokens can be found on your applications's Details\n",
      "# page located at https://dev.twitter.com/apps (located \n",
      "# under \"Your access token\")\n",
      "access_token=\"<access token>"\n",
      "access_token_secret=\"<access token secret>"\n",
      "\n",
      "auth = tweepy.OAuthHandler(consumer_key, consumer_secret)\n",
      "auth.set_access_token(access_token, access_token_secret)\n",
      "\n",
      "myapi = tweepy.API(auth)\n",
      "\n",
      "# If the authentication was successful, you should\n",
      "# see the name of the account print out\n",
      "print myapi.me().name"
     ],
     "language": "python",
     "metadata": {},
     "outputs": [
      {
       "output_type": "stream",
       "stream": "stdout",
       "text": [
        "Michael Martinez\n"
       ]
      }
     ],
     "prompt_number": 1
    },
    {
     "cell_type": "markdown",
     "metadata": {},
     "source": [
      "If the request was successful, you will see your name print out in the response"
     ]
    },
    {
     "cell_type": "code",
     "collapsed": false,
     "input": [
      "myapi.update_status('Rocking #iPythonNotebook and tweepy')"
     ],
     "language": "python",
     "metadata": {},
     "outputs": [
      {
       "output_type": "pyout",
       "prompt_number": 2,
       "text": [
        "<tweepy.models.Status at 0x107ca3550>"
       ]
      }
     ],
     "prompt_number": 2
    },
    {
     "cell_type": "markdown",
     "metadata": {},
     "source": [
      "## The user object"
     ]
    },
    {
     "cell_type": "markdown",
     "metadata": {},
     "source": [
      "Showing a method to access some variables returned by twitter"
     ]
    },
    {
     "cell_type": "code",
     "collapsed": false,
     "input": [
      "print myapi.me().screen_name"
     ],
     "language": "python",
     "metadata": {},
     "outputs": [
      {
       "output_type": "stream",
       "stream": "stdout",
       "text": [
        "MonkMartinez\n"
       ]
      }
     ],
     "prompt_number": 3
    },
    {
     "cell_type": "code",
     "collapsed": false,
     "input": [
      "print myapi.me().description"
     ],
     "language": "python",
     "metadata": {},
     "outputs": [
      {
       "output_type": "stream",
       "stream": "stdout",
       "text": [
        "Father. Firefighter. Mobile Crafter. Web Crafter. Garage-Business-Dude. \n"
       ]
      }
     ],
     "prompt_number": 4
    },
    {
     "cell_type": "code",
     "collapsed": false,
     "input": [
      "me = myapi.me()"
     ],
     "language": "python",
     "metadata": {},
     "outputs": [],
     "prompt_number": 5
    },
    {
     "cell_type": "code",
     "collapsed": false,
     "input": [
      "print me.followers_count"
     ],
     "language": "python",
     "metadata": {},
     "outputs": [
      {
       "output_type": "stream",
       "stream": "stdout",
       "text": [
        "116\n"
       ]
      }
     ],
     "prompt_number": 6
    },
    {
     "cell_type": "code",
     "collapsed": false,
     "input": [
      "me.status.text"
     ],
     "language": "python",
     "metadata": {},
     "outputs": [
      {
       "output_type": "pyout",
       "prompt_number": 7,
       "text": [
        "u'Rocking #iPythonNotebook and tweepy'"
       ]
      }
     ],
     "prompt_number": 7
    },
    {
     "cell_type": "code",
     "collapsed": false,
     "input": [
      "me.statuses_count"
     ],
     "language": "python",
     "metadata": {},
     "outputs": [
      {
       "output_type": "pyout",
       "prompt_number": 8,
       "text": [
        "1570"
       ]
      }
     ],
     "prompt_number": 8
    },
    {
     "cell_type": "code",
     "collapsed": false,
     "input": [
      "from IPython.core.display import Image\n",
      "mepic = me.profile_image_url\n",
      "Image(url=mepic)\n"
     ],
     "language": "python",
     "metadata": {},
     "outputs": [
      {
       "html": [
        "<img src=\"http://a0.twimg.com/profile_images/1496212678/myMascot_normal.png\" />"
       ],
       "output_type": "pyout",
       "prompt_number": 9,
       "text": [
        "<IPython.core.display.Image at 0x107ca3410>"
       ]
      }
     ],
     "prompt_number": 9
    },
    {
     "cell_type": "markdown",
     "metadata": {},
     "source": [
      "### Rate limits"
     ]
    },
    {
     "cell_type": "markdown",
     "metadata": {},
     "source": [
      "For items that return a dict, you can simply iterate through the list"
     ]
    },
    {
     "cell_type": "code",
     "collapsed": false,
     "input": [
      "type(myapi.rate_limit_status())\n",
      "\n",
      "#lets work through a returned dict\n",
      "\n",
      "rl = myapi.rate_limit_status()\n",
      "\n",
      "for k, v in rl.iteritems():\n",
      "    print '%s : %s' %(k, v)"
     ],
     "language": "python",
     "metadata": {},
     "outputs": [
      {
       "output_type": "stream",
       "stream": "stdout",
       "text": [
        "photos : {u'daily_limit': 100, u'reset_time': u'Sun Apr 21 17:21:43 +0000 2013', u'remaining_hits': 100, u'reset_time_in_seconds': 1366564903}\n",
        "remaining_hits : 346\n",
        "reset_time_in_seconds : 1366482078\n",
        "hourly_limit : 350\n",
        "reset_time : Sat Apr 20 18:21:18 +0000 2013\n"
       ]
      }
     ],
     "prompt_number": 10
    },
    {
     "cell_type": "markdown",
     "metadata": {},
     "source": [
      "Another way to access variables within the api..."
     ]
    },
    {
     "cell_type": "code",
     "collapsed": false,
     "input": [
      "myapi.rate_limit_status()['remaining_hits'] "
     ],
     "language": "python",
     "metadata": {},
     "outputs": [
      {
       "output_type": "pyout",
       "prompt_number": 11,
       "text": [
        "350"
       ]
      }
     ],
     "prompt_number": 11
    },
    {
     "cell_type": "code",
     "collapsed": false,
     "input": [
      "import datetime\n",
      "# get the reset time from twitter call\n",
      "twitime = myapi.rate_limit_status()['reset_time_in_seconds']\n",
      "\n",
      "#convert the time\n",
      "timere = datetime.datetime.fromtimestamp(int(twitime)).strftime('%Y-%m-%d %H:%M:%S')\n",
      "print('Twitter will reset at:', timere)"
     ],
     "language": "python",
     "metadata": {},
     "outputs": [
      {
       "output_type": "stream",
       "stream": "stdout",
       "text": [
        "('Twitter will reset at:', '2013-04-20 11:21:18')\n"
       ]
      }
     ],
     "prompt_number": 12
    },
    {
     "cell_type": "code",
     "collapsed": false,
     "input": [
      "for i in myapi.user_timeline():\n",
      "    print(i.text)"
     ],
     "language": "python",
     "metadata": {},
     "outputs": [
      {
       "output_type": "stream",
       "stream": "stdout",
       "text": [
        "Rocking #iPythonNotebook and tweepy\n",
        "Have you heard \u2018Sisi - Stay - Funk Ferret Edit\u2019 by FunkFerret on #SoundCloud? https://t.co/lrdhjdOmDa\n",
        "Have you heard \u2018Rufus Thomas - Itch &amp; Scratch - Funk Ferret Edit\u2019 by FunkFerret on #SoundCloud? https://t.co/JW2sKvlvvV\n",
        "Can you get paid to evaluate OSS python packages?\n",
        "Rocking #iPythonNotebook and tweepy\n",
        "@UnlearningEcon Outcomes are NEVER certain. More thinking and less emotion would make the world a better place.\n",
        "@kennethlove Right on, can't wait!!!\n",
        "@kennethlove Really AWESOME #GSWD tut(s)... Muchas Gracias! More coming soon I hope?\n",
        "I am working on data analysis with #pandas and #iPython for a GIS project that may help #firefighters be more efficient.\n",
        "Back on the horse after a one month non-programming hiatus. Feels good... and my fingers still remember #emacs. #python #iPython\n",
        "The damage has already been done. The #bankrun will proceed as if the tax levy had passed. #Cyprus\n",
        "@charlesfrith short on math eh???\n",
        "Enough politics, back to programming and awesomeness in general.\n",
        "#hispanics are not dumb people that simply recognize latino names and think, \"bueno, yo vota para el.\"\n",
        "Not only that, the #republican party thinks that trotting people with hispanic last names will to help \"win\" the hispanic vote. #notworking\n",
        "The #republican party is so out of touch with my generation I really don't know where to begin.\n",
        "@cjno pic or it didn't happen :-)\n"
       ]
      }
     ],
     "prompt_number": 13
    },
    {
     "cell_type": "code",
     "collapsed": false,
     "input": [
      "for i in myapi.search(\"#watertown\"):\n",
      "    print'name:', i.from_user,'\\n', ':: twit:', i.text, '\\n', 'geo:', i.geo"
     ],
     "language": "python",
     "metadata": {},
     "outputs": [
      {
       "output_type": "stream",
       "stream": "stdout",
       "text": [
        "name: Sirajulrox98 \n",
        ":: twit: RT @Jessewelle: ish is getting real in Boston. Be safe people. Stay in your house #Watertown. \n",
        "geo: None\n",
        "name: ConradddJay \n",
        ":: twit: RT @YourAnonNews: Bomber's uncle: It's about being losers. Not Chechnya. Not Islam. They deserve to die. http://t.co/SH1yhnBUFQ #Watertown #BostonBombing \n",
        "geo: None\n",
        "name: Jesicakhua \n",
        ":: twit: This goes to show that law enforcement in the US is better that most other countries' military. #watertown #boston \n",
        "geo: None\n",
        "name: SaraGCeli \n",
        ":: twit: RT @mackissler: Little boy goes up to police officers and says \"thank you!\" Near the #Watertown home where the suspect was caught. http://t.co/xoGlNqx2Lt \n",
        "geo: None\n",
        "name: Gina_Gillespie \n",
        ":: twit: RT @AJELive: Dead #Boston bombings suspect was interviewed by FBI http://t.co/hLSqKYKZUz #Watertown \n",
        "geo: None\n",
        "name: bumpinuglies55 \n",
        ":: twit: RT @MentalityMag: #Watertown Police Chief claims Tamerlan Tsarnaev was cuffed and alive on the ground when Dzhokhar ran him over with stolen SUV, killing him. \n",
        "geo: None\n",
        "name: watertowntab \n",
        ":: twit: RT @ThatGuyBoston We are #watertown. We are boston. We are the United States of America. Proud to be a family of Boston Firefighters \n",
        "geo: None\n",
        "name: mooka_alsaleem \n",
        ":: twit: RT @3ajel_News: \u0623\u0637\u0641\u0627\u0644 #\u0633\u0648\u0631\u064a\u0627:\n",
        "#\u062a\u0641\u062c\u064a\u0631_\u0628\u0648\u0633\u0637\u0646 \u064a\u0645\u062b\u0644 \u0645\u0634\u0647\u062f \u0645\u062d\u0632\u0646 \u0644\u0645\u0627 \u064a\u062d\u062f\u062b \u0643\u0644 \u064a\u0648\u0645 \u0641\u064a \u0633\u0648\u0631\u064a\u0627 \u062a\u0642\u0628\u0644\u0648\u0627 \u062a\u0639\u0627\u0632\u064a\u0646\u0627\n",
        "#bostonbombing #manhunt #watertown http://t.co/Znlshy7b9F \n",
        "geo: None\n",
        "name: DMillsTheGod \n",
        ":: twit: RT @AJELive: Dead #Boston bombings suspect was interviewed by FBI http://t.co/hLSqKYKZUz #Watertown \n",
        "geo: None\n",
        "name: watertowntab \n",
        ":: twit: RT @GarrettQuinn resident Taryn Sullivan, 28, says she was nervous but \"put my faith in the #Watertown, State Police\" http://t.co/39Lf9HB32t \n",
        "geo: None\n",
        "name: infolibri \n",
        ":: twit: RT @AJELive: Dead #Boston bombings suspect was interviewed by FBI http://t.co/hLSqKYKZUz #Watertown \n",
        "geo: None\n",
        "name: fabian70813 \n",
        ":: twit: RT @YourAnonNews: Cop to NBC reporter:\"if you knew what was going on, you wouldn't be standing here right now.\"#watertown #manhunt #Boston via @CiaPressOffice \n",
        "geo: None\n",
        "name: PatrakaarPopat \n",
        ":: twit: RT @AJELive: Dead #Boston bombings suspect was interviewed by FBI http://t.co/hLSqKYKZUz #Watertown \n",
        "geo: None\n",
        "name: HaaziqUvais \n",
        ":: twit: RT @lisawilliams: Police searched my house while I was away. Attic door open items on floor. No complaints: doing their job. #watertown http://t.co/A4lw0ZBxoJ \n",
        "geo: None\n",
        "name: Slainte2505 \n",
        ":: twit: RT @OpocAnOn: #Dzhokhar #Tsarnaev in this wider picture running from second bombing in #bostonbombing #manhunt #Watertown http://t.co/LXWlVR9RkQ \n",
        "geo: None\n"
       ]
      }
     ],
     "prompt_number": 14
    },
    {
     "cell_type": "code",
     "collapsed": false,
     "input": [
      "for i in myapi.lists_subscriptions():\n",
      "    print i.name\n"
     ],
     "language": "python",
     "metadata": {},
     "outputs": [
      {
       "output_type": "stream",
       "stream": "stdout",
       "text": [
        "pythonistas\n",
        "python\n",
        "Rails\n",
        "rails guys\n",
        "Rails\n",
        "tech pundits\n",
        "peoplewhomakestuff\n",
        "Microsoft\n",
        "MSExpSLTeam\n",
        "Rad Designers\n",
        "The Pixel Horde\n",
        "Designer\n",
        "Cool Infographics People\n",
        "visual-effects-peeps\n",
        "Design/Animation\n",
        "design\n",
        "design\n",
        "Design, UI, Arts & co\n",
        "Graphics Software\n",
        "UX - IxD\n"
       ]
      }
     ],
     "prompt_number": 15
    },
    {
     "cell_type": "code",
     "collapsed": false,
     "input": [
      "myapi.update_status('Someone looking for a part-time #pythondev?')"
     ],
     "language": "python",
     "metadata": {},
     "outputs": [
      {
       "output_type": "pyout",
       "prompt_number": 16,
       "text": [
        "<tweepy.models.Status at 0x108228d10>"
       ]
      }
     ],
     "prompt_number": 16
    },
    {
     "cell_type": "code",
     "collapsed": false,
     "input": [
      "import numpy as np\n",
      "import matplotlib.pyplot as plt\n",
      "\n",
      "tweet_length = []\n",
      "for status in tweepy.Cursor(myapi.user_timeline).items(50):\n",
      "     tweet_length.append(len(status.text))\n",
      "\n",
      "# Convert tweet_length to numpy array\n",
      "b = np.array(tweet_length)\n",
      "\n",
      "#now calc mean\n",
      "vf = np.mean(b)\n",
      "\n",
      "#now plot it\n",
      "figure(1)\n",
      "plt.plot(b, 'gd')\n",
      "\n",
      "#Horizontal line\n",
      "axhline(y=92, linewidth=1, color='r')\n",
      "\n",
      "xlabel('Number of Tweets')\n",
      "ylabel('Number of Characters')\n",
      "title('Mean length of last 50 tweets: %f characters' %vf)\n",
      "\n",
      "grid(True) "
     ],
     "language": "python",
     "metadata": {},
     "outputs": [
      {
       "output_type": "display_data",
       "png": "iVBORw0KGgoAAAANSUhEUgAAAYUAAAEVCAYAAAAPRfkLAAAABHNCSVQICAgIfAhkiAAAAAlwSFlz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\nAAAAAElFTkSuQmCC\n"
      }
     ],
     "prompt_number": 19
    }
   ],
   "metadata": {}
  }
 ]
}