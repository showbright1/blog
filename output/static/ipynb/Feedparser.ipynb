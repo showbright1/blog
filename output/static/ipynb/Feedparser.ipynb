{
 "metadata": {
  "name": "Feedparser"
 },
 "nbformat": 3,
 "nbformat_minor": 0,
 "worksheets": [
  {
   "cells": [
    {
     "cell_type": "markdown",
     "metadata": {},
     "source": [
      "## Parse Feeds with FeedParser"
     ]
    },
    {
     "cell_type": "markdown",
     "metadata": {},
     "source": [
      "I am currently working on a [Flask](http://flask.pocoo.org/) feed reader app. The plan is to enable a reader app that attaches to static site generator like [Pelican](http://docs.getpelican.com/en/latest/), [Nikola](http://nikola.ralsina.com.ar/) and [Mynt](http://mynt.mirroredwhite.com/) among many [others](http://www.quora.com/Whats-the-best-available-static-blog-website-generator-in-Python). I have the basic structure of the app done and I wanted to implement feed parsing. With quite a bit of effort I probably could have rolled my own bugging feedparser, but I am a believer in not re-inventing the wheel. So I turned to Google and found FeedPaser for python. "
     ]
    },
    {
     "cell_type": "markdown",
     "metadata": {},
     "source": [
      "[Feedparser](http://pythonhosted.org/feedparser/index.html) is touted as a [universal feed parser](https://pypi.python.org/pypi/feedparser/5.1.3) that handles RSS 0.9x, RSS 1.0, RSS 2.0, CDF, Atom 0.3, and Atom 1.0 feeds. In order to really understand how this package works, I decided to create this notebook and share with all of you. Hopefully, it sheds some light on the finer details of working with feeds and python."
     ]
    },
    {
     "cell_type": "markdown",
     "metadata": {},
     "source": [
      "Insert download button here"
     ]
    },
    {
     "cell_type": "markdown",
     "metadata": {},
     "source": [
      "### Feed Data"
     ]
    },
    {
     "cell_type": "markdown",
     "metadata": {},
     "source": [
      "There are basically two \"groups\" of data that come with every feed. The feed data itself, as in the hackaday, or Planet Python feed(s) and the relevant data about them. The other group of data are the feed entries, and these can be thought of as the stream of entities that the feed produces. For this example, entries are individual blog posts supplied by the feed. "
     ]
    },
    {
     "cell_type": "markdown",
     "metadata": {},
     "source": [
      "The first task is to import feedparser and get a few feeds to work with."
     ]
    },
    {
     "cell_type": "code",
     "collapsed": false,
     "input": [
      "import feedparser\n",
      "planet_python = feedparser.parse('http://planet.python.org/rss20.xml')\n",
      "hack = feedparser.parse('http://www.hackaday.com/rss.xml')"
     ],
     "language": "python",
     "metadata": {},
     "outputs": [],
     "prompt_number": 1
    },
    {
     "cell_type": "markdown",
     "metadata": {},
     "source": [
      "So let's get some data about the specific feeds we have just accessed and parsed with feedparser.  "
     ]
    },
    {
     "cell_type": "code",
     "collapsed": false,
     "input": [
      "hack.feed.title"
     ],
     "language": "python",
     "metadata": {},
     "outputs": [
      {
       "output_type": "pyout",
       "prompt_number": 2,
       "text": [
        "u'Hack a Day'"
       ]
      }
     ],
     "prompt_number": 2
    },
    {
     "cell_type": "markdown",
     "metadata": {},
     "source": [
      "If we want to store the title data as a string in a database or something, we can use the encode to `utf-8` method as demo'ed below. If not, simply calling `feed.title` will return the raw (parsed) title of the feed."
     ]
    },
    {
     "cell_type": "code",
     "collapsed": false,
     "input": [
      "planet_python.feed.title.encode('utf-8')"
     ],
     "language": "python",
     "metadata": {},
     "outputs": [
      {
       "output_type": "pyout",
       "prompt_number": 3,
       "text": [
        "'Planet Python'"
       ]
      }
     ],
     "prompt_number": 3
    },
    {
     "cell_type": "markdown",
     "metadata": {},
     "source": [
      "The feed links. Reference the doc's for a full list of feed items that "
     ]
    },
    {
     "cell_type": "code",
     "collapsed": false,
     "input": [
      "hack.feed.link"
     ],
     "language": "python",
     "metadata": {},
     "outputs": [
      {
       "output_type": "pyout",
       "prompt_number": 4,
       "text": [
        "u'http://hackaday.com'"
       ]
      }
     ],
     "prompt_number": 4
    },
    {
     "cell_type": "code",
     "collapsed": false,
     "input": [
      "planet_python.feed.link"
     ],
     "language": "python",
     "metadata": {},
     "outputs": [
      {
       "output_type": "pyout",
       "prompt_number": 5,
       "text": [
        "u'http://planet.python.org/'"
       ]
      }
     ],
     "prompt_number": 5
    },
    {
     "cell_type": "markdown",
     "metadata": {},
     "source": [
      "There are two convinience http methods that can potentially save a bunch of error prone manual date/time checking code. In short, your implementation needs a way to check if the feed has any updated items. [ETag and last modified Headers](http://pythonhosted.org/feedparser/http-etag.html) are special http headers that *may* be sent on subsequent requests to check for updates. Proper [exception](http://docs.python.org/2/tutorial/errors.html) handling and testing will need to be done to ensure these operate as expected. I've included them here we will try them out at the end of the post. "
     ]
    },
    {
     "cell_type": "code",
     "collapsed": false,
     "input": [
      "h_tag = hack.etag\n",
      "h_tag"
     ],
     "language": "python",
     "metadata": {},
     "outputs": [
      {
       "output_type": "pyout",
       "prompt_number": 6,
       "text": [
        "u'jJkun8gY53hstqhk+8EvcdIIKuA'"
       ]
      }
     ],
     "prompt_number": 6
    },
    {
     "cell_type": "code",
     "collapsed": false,
     "input": [
      "h_mod = hack.modified\n",
      "h_mod"
     ],
     "language": "python",
     "metadata": {},
     "outputs": [
      {
       "output_type": "pyout",
       "prompt_number": 7,
       "text": [
        "'Mon, 20 May 2013 06:29:38 GMT'"
       ]
      }
     ],
     "prompt_number": 7
    },
    {
     "cell_type": "code",
     "collapsed": false,
     "input": [
      "p_tag = planet_python.etag\n",
      "p_tag"
     ],
     "language": "python",
     "metadata": {},
     "outputs": [
      {
       "output_type": "pyout",
       "prompt_number": 8,
       "text": [
        "u'\"17d8206-c0c4e-4dd1fe032e880\"'"
       ]
      }
     ],
     "prompt_number": 8
    },
    {
     "cell_type": "code",
     "collapsed": false,
     "input": [
      "p_mod = planet_python.modified\n",
      "p_mod"
     ],
     "language": "python",
     "metadata": {},
     "outputs": [
      {
       "output_type": "pyout",
       "prompt_number": 9,
       "text": [
        "'Mon, 20 May 2013 05:48:02 GMT'"
       ]
      }
     ],
     "prompt_number": 9
    },
    {
     "cell_type": "markdown",
     "metadata": {},
     "source": [
      "### Entries, or the meat and potatoes of Feed parsing"
     ]
    },
    {
     "cell_type": "markdown",
     "metadata": {},
     "source": [
      "The other half of the equation in this demo is accessing the data that the feed produces. The following explores the myriad of ways to get and manipulate this data"
     ]
    },
    {
     "cell_type": "markdown",
     "metadata": {},
     "source": [
      "Calling entries on our feedparser object returns a FeedParserDict. After inspecting the source code, FeedParserDict subclasses a UserDict which subclasses dict but it behaves like a list as well. This is what I love about Python."
     ]
    },
    {
     "cell_type": "markdown",
     "metadata": {},
     "source": [
      "The first item in the entries is called with entries at index 0. This gives us a clue as to how the data is structured. The doc's are equally clear about what you can access with `entries[i].<item here>`. Chain `encode('utf-8') to the end of each call to get a string. "
     ]
    },
    {
     "cell_type": "code",
     "collapsed": false,
     "input": [
      "hack.entries[0]"
     ],
     "language": "python",
     "metadata": {},
     "outputs": [
      {
       "output_type": "pyout",
       "prompt_number": 10,
       "text": [
        "{'author': u'Mike Szczys',\n",
        " 'author_detail': {'name': u'Mike Szczys'},\n",
        " 'authors': [{}],\n",
        " 'comments': u'http://hackaday.com/2013/05/19/hackaday-links-sunday-may-19th-2013/#comments',\n",
        " 'content': [{'base': u'http://feeds2.feedburner.com/hackaday/LgoM',\n",
        "   'language': None,\n",
        "   'type': u'text/html',\n",
        "   'value': u'<p><img alt=\"hackaday-links-chain\" class=\"aligncenter size-full wp-image-97424\" height=\"32\" src=\"http://hackadaycom.files.wordpress.com/2013/04/hackaday-links-chain.png?w=580&#038;h=32\" width=\"580\" /></p>\\n<p>Laser cutter owners may find <a href=\"http://www.makercase.com/\" target=\"_blank\">this online box design tool</a> which [Jon] built quite useful. It&#8217;s got a few more joint options than <a href=\"http://hackaday.com/2012/07/26/box-maker-extension-for-inkscape/\">the Inkscape box design add-on</a> does.</p>\\n<p>Apparently the US Navy has the ability to bring down drones in <a href=\"http://www.youtube.com/watch?v=KEUwnqmKlbE\" target=\"_blank\">a flaming pile of laser-caused death</a>. [Thanks Joshua]</p>\\n<p>[Michail] has been working on <a href=\"http://3.14.by/en/read/BarsFA-4T-full-adder\" target=\"_blank\">a transistor-based full adder</a>. He&#8217;s posted a Spice simulation if you want to learn about the design.</p>\\n<p>Turn your crystal clear LED bodies into diffuse ones <a href=\"http://rurandom.org/justintime/index.php?title=Diffusing_Leds_the_Fast_Way\" target=\"_blank\">using a wooden dowel, power drill, and sandpaper</a>. The results look better than what we&#8217;ve accomplished by hand. [Thanks Vinnie]</p>\\n<p>Play your favorite Atari Jaguar games on an FPGA thanks to the work\\xa0[Gregory Estrade] did to get it running on a\\xa0Stratix-II board. You can pick <a href=\"https://github.com/Torlus/JagNetlists\" target=\"_blank\">up the VHDL and support tools</a> in his repo. If you&#8217;re just curious you can watch\\xa0<a href=\"http://www.youtube.com/watch?v=l6KWd-LPwKg\" target=\"_blank\">his demo vid</a>.</p>\\n<p>Members of Open Space Aarhus &#8212; a hackerspace in Risskov, Denmark &#8212; have been playing around with a bunch of old server fans. <a href=\"http://www.youtube.com/watch?v=NILCWpM5oCo\" target=\"_blank\">They made a skirtless hovercraft</a> by taping them together and letting them rip. Too bad it can&#8217;t carry its own power supply</p>\\n<p>Here&#8217;s another final project from that bountiful Cornell embedded systems class. This team of students made a maze game that <a href=\"http://people.ece.cornell.edu/land/courses/ece5760/FinalProjects/s2013/cwf38_as889_mao65/index.htm\" target=\"_blank\">forms the maze by capturing walls drawn on a white board</a>.</p>\\n<p>And finally, here&#8217;s <a href=\"http://wastecycle.blogspot.com/2013/05/hardware-vs-electronics-wastecycle.html\" target=\"_blank\">a unique chess board you can build</a> by raiding your parts bin. [Tetris Monkey] made the board from the LCD screen of a broken monitor. The playing pieces are salvaged electronics (like big capacitors) against corroded hardware (like nuts and bolts). We think it came out just great!</p>\\n<br />Filed under: <a href=\"http://hackaday.com/category/hackaday-links/\">Hackaday links</a>  <a rel=\"nofollow\" target=\"_blank\"><img alt=\"\" border=\"0\" src=\"http://feeds.wordpress.com/1.0/comments/hackadaycom.wordpress.com/98186/\" /></a> <img alt=\"\" border=\"0\" height=\"1\" src=\"http://stats.wordpress.com/b.gif?host=hackaday.com&#038;blog=4779443&#038;post=98186&#038;subd=hackadaycom&#038;ref=&#038;feed=1\" width=\"1\" /><img height=\"1\" src=\"http://feeds.feedburner.com/~r/hackaday/LgoM/~4/h48k1BgqUaw\" width=\"1\" />'}],\n",
        " 'feedburner_origlink': u'http://hackaday.com/2013/05/19/hackaday-links-sunday-may-19th-2013/',\n",
        " 'guidislink': False,\n",
        " 'id': u'http://hackaday.com/?p=98186',\n",
        " 'link': u'http://feedproxy.google.com/~r/hackaday/LgoM/~3/h48k1BgqUaw/',\n",
        " 'links': [{'href': u'http://feedproxy.google.com/~r/hackaday/LgoM/~3/h48k1BgqUaw/',\n",
        "   'rel': u'alternate',\n",
        "   'type': u'text/html'}],\n",
        " 'media_content': [{'medium': u'image',\n",
        "   'url': u'http://1.gravatar.com/avatar/1aac8835fba7c550fea5a53cd1b0dfb8?s=96&d=http%3A%2F%2F1.gravatar.com%2Favatar%2Fad516503a11cd5ca435acc9bb6523536%3Fs%3D96'},\n",
        "  {'medium': u'image',\n",
        "   'url': u'http://hackadaycom.files.wordpress.com/2013/04/hackaday-links-chain.png'}],\n",
        " 'published': u'Sun, 19 May 2013 21:01:28 +0000',\n",
        " 'published_parsed': time.struct_time(tm_year=2013, tm_mon=5, tm_mday=19, tm_hour=21, tm_min=1, tm_sec=28, tm_wday=6, tm_yday=139, tm_isdst=0),\n",
        " 'slash_comments': u'16',\n",
        " 'summary': u'Laser cutter owners may find this online box design tool which [Jon] built quite useful. It&#8217;s got a few more joint options than the Inkscape box design add-on does. Apparently the US Navy has the ability to bring down drones in a flaming pile of laser-caused death. [Thanks Joshua] [Michail] has been working on a [&#8230;]<img alt=\"\" border=\"0\" height=\"1\" src=\"http://stats.wordpress.com/b.gif?host=hackaday.com&#038;blog=4779443&#038;post=98186&#038;subd=hackadaycom&#038;ref=&#038;feed=1\" width=\"1\" />',\n",
        " 'summary_detail': {'base': u'http://feeds2.feedburner.com/hackaday/LgoM',\n",
        "  'language': None,\n",
        "  'type': u'text/html',\n",
        "  'value': u'Laser cutter owners may find this online box design tool which [Jon] built quite useful. It&#8217;s got a few more joint options than the Inkscape box design add-on does. Apparently the US Navy has the ability to bring down drones in a flaming pile of laser-caused death. [Thanks Joshua] [Michail] has been working on a [&#8230;]<img alt=\"\" border=\"0\" height=\"1\" src=\"http://stats.wordpress.com/b.gif?host=hackaday.com&#038;blog=4779443&#038;post=98186&#038;subd=hackadaycom&#038;ref=&#038;feed=1\" width=\"1\" />'},\n",
        " 'tags': [{'label': None, 'scheme': None, 'term': u'Hackaday links'},\n",
        "  {'label': None, 'scheme': None, 'term': u'chess'},\n",
        "  {'label': None, 'scheme': None, 'term': u'diffuse'},\n",
        "  {'label': None, 'scheme': None, 'term': u'fans'},\n",
        "  {'label': None, 'scheme': None, 'term': u'fpga'},\n",
        "  {'label': None, 'scheme': None, 'term': u'full adder'},\n",
        "  {'label': None, 'scheme': None, 'term': u'laser'},\n",
        "  {'label': None, 'scheme': None, 'term': u'maze'}],\n",
        " 'title': u'Hackaday Links: Sunday, May 19th, 2013',\n",
        " 'title_detail': {'base': u'http://feeds2.feedburner.com/hackaday/LgoM',\n",
        "  'language': None,\n",
        "  'type': u'text/plain',\n",
        "  'value': u'Hackaday Links: Sunday, May 19th, 2013'},\n",
        " 'wfw_commentrss': u'http://hackaday.com/2013/05/19/hackaday-links-sunday-may-19th-2013/feed/'}"
       ]
      }
     ],
     "prompt_number": 10
    },
    {
     "cell_type": "code",
     "collapsed": false,
     "input": [
      "hack.entries[2].summary"
     ],
     "language": "python",
     "metadata": {},
     "outputs": [
      {
       "output_type": "pyout",
       "prompt_number": 11,
       "text": [
        "u'Sending data from a microcontroller to a PC usually requires some sort of serial connection, either through fiddly on-chip USB, FTDI chips, or expensive radio ICs. [Scott] didn&#8217;t want to deal with this when creating a network of wireless temperature sensors, so he hacked up a few cheap 433 MHz radio transmitters and\\xa0receivers\\xa0to transmit data [&#8230;]<img alt=\"\" border=\"0\" height=\"1\" src=\"http://stats.wordpress.com/b.gif?host=hackaday.com&#038;blog=4779443&#038;post=98208&#038;subd=hackadaycom&#038;ref=&#038;feed=1\" width=\"1\" />'"
       ]
      }
     ],
     "prompt_number": 11
    },
    {
     "cell_type": "code",
     "collapsed": false,
     "input": [
      "hack.entries[2].link"
     ],
     "language": "python",
     "metadata": {},
     "outputs": [
      {
       "output_type": "pyout",
       "prompt_number": 12,
       "text": [
        "u'http://feedproxy.google.com/~r/hackaday/LgoM/~3/HfH-IWvdlN8/'"
       ]
      }
     ],
     "prompt_number": 12
    },
    {
     "cell_type": "code",
     "collapsed": false,
     "input": [
      "planet_python.entries[0].link"
     ],
     "language": "python",
     "metadata": {},
     "outputs": [
      {
       "output_type": "pyout",
       "prompt_number": 13,
       "text": [
        "u'http://www.pythondiary.com/blog/May.19,2013/looking-advertising-proposals.html'"
       ]
      }
     ],
     "prompt_number": 13
    },
    {
     "cell_type": "markdown",
     "metadata": {},
     "source": [
      "Lets try to naively iterate over the `planet_python.entries` list which is actually called FeedParserDict"
     ]
    },
    {
     "cell_type": "code",
     "collapsed": false,
     "input": [
      "for i in planet_python.entries:\n",
      "    print planet_python.entries[i].link"
     ],
     "language": "python",
     "metadata": {},
     "outputs": [
      {
       "ename": "TypeError",
       "evalue": "list indices must be integers, not FeedParserDict",
       "output_type": "pyerr",
       "traceback": [
        "\u001b[0;31m---------------------------------------------------------------------------\u001b[0m\n\u001b[0;31mTypeError\u001b[0m                                 Traceback (most recent call last)",
        "\u001b[0;32m<ipython-input-14-f4095ac7e970>\u001b[0m in \u001b[0;36m<module>\u001b[0;34m()\u001b[0m\n\u001b[1;32m      1\u001b[0m \u001b[0;32mfor\u001b[0m \u001b[0mi\u001b[0m \u001b[0;32min\u001b[0m \u001b[0mplanet_python\u001b[0m\u001b[0;34m.\u001b[0m\u001b[0mentries\u001b[0m\u001b[0;34m:\u001b[0m\u001b[0;34m\u001b[0m\u001b[0m\n\u001b[0;32m----> 2\u001b[0;31m     \u001b[0;32mprint\u001b[0m \u001b[0mplanet_python\u001b[0m\u001b[0;34m.\u001b[0m\u001b[0mentries\u001b[0m\u001b[0;34m[\u001b[0m\u001b[0mi\u001b[0m\u001b[0;34m]\u001b[0m\u001b[0;34m.\u001b[0m\u001b[0mlink\u001b[0m\u001b[0;34m\u001b[0m\u001b[0m\n\u001b[0m",
        "\u001b[0;31mTypeError\u001b[0m: list indices must be integers, not FeedParserDict"
       ]
      }
     ],
     "prompt_number": 14
    },
    {
     "cell_type": "markdown",
     "metadata": {},
     "source": [
      "Ok, that didn't go so well. FeedParserDict looks more like an integer indexed list with nested dicts. Lets see what kind of data structure is being returned. Lets print the index"
     ]
    },
    {
     "cell_type": "code",
     "collapsed": false,
     "input": [
      "for index in range(len(hack.entries)):\n",
      "    print index"
     ],
     "language": "python",
     "metadata": {},
     "outputs": [
      {
       "output_type": "stream",
       "stream": "stdout",
       "text": [
        "0\n",
        "1\n",
        "2\n",
        "3\n",
        "4\n",
        "5\n",
        "6\n"
       ]
      }
     ],
     "prompt_number": 15
    },
    {
     "cell_type": "markdown",
     "metadata": {},
     "source": [
      "Now we'll enumerate the list to access the link data... any of the `entries[i].<item>` will work here.  "
     ]
    },
    {
     "cell_type": "code",
     "collapsed": false,
     "input": [
      "for index, item in enumerate(hack.entries):\n",
      "    print item.link + \" ** \" + item.title + \" ** \" + item.published"
     ],
     "language": "python",
     "metadata": {},
     "outputs": [
      {
       "output_type": "stream",
       "stream": "stdout",
       "text": [
        "http://feedproxy.google.com/~r/hackaday/LgoM/~3/h48k1BgqUaw/ ** Hackaday Links: Sunday, May 19th, 2013 ** Sun, 19 May 2013 21:01:28 +0000\n",
        "http://feedproxy.google.com/~r/hackaday/LgoM/~3/ucspkFVdN0U/ ** ATX Raspi is a smart power source for Raspberry Pi ** Sun, 19 May 2013 19:01:10 +0000\n",
        "http://feedproxy.google.com/~r/hackaday/LgoM/~3/HfH-IWvdlN8/ ** Wireless microcontroller/PC interface for $3 ** Sun, 19 May 2013 17:00:58 +0000\n",
        "http://feedproxy.google.com/~r/hackaday/LgoM/~3/xDIE-HyDI3Y/ ** Controlling a terminal with Google Voice ** Sun, 19 May 2013 15:00:23 +0000\n",
        "http://feedproxy.google.com/~r/hackaday/LgoM/~3/GY6JT-CI7hU/ ** FPGA plays Mario like a champ ** Sun, 19 May 2013 13:01:27 +0000\n",
        "http://feedproxy.google.com/~r/hackaday/LgoM/~3/UIbzO7WSI_c/ ** Robot air hockey championship as a final project ** Sat, 18 May 2013 21:01:42 +0000\n",
        "http://feedproxy.google.com/~r/hackaday/LgoM/~3/s7hF-USiG1c/ ** Just put your lips together to turn on a lamp ** Sat, 18 May 2013 19:01:30 +0000\n"
       ]
      }
     ],
     "prompt_number": 16
    },
    {
     "cell_type": "markdown",
     "metadata": {},
     "source": [
      "So we know how to get to the data, we can start to build some useful data structures suitable for storage or further operation. Below we create a list called links, then we create a variable to we set to the length of the returned number of entries. This integer can be used to loop and access the data we want. This method of iteration should shield you from IndexError in that the loop should be equal to the number of entries and nothing more or less "
     ]
    },
    {
     "cell_type": "code",
     "collapsed": false,
     "input": [
      "links = []\n",
      "ent_length = len(planet_python.entries) # capture the number of items in the FeedParserDict\n",
      "# Now we can iterate through the list\n",
      "for i in range(len(planet_python.entries)): # The structure of the FeedParserDict Nessistates iteration with integers\n",
      "    links.append(str(planet_python.entries[i].link))\n",
      "\n",
      "links"
     ],
     "language": "python",
     "metadata": {},
     "outputs": [
      {
       "output_type": "pyout",
       "prompt_number": 17,
       "text": [
        "['http://www.pythondiary.com/blog/May.19,2013/looking-advertising-proposals.html',\n",
        " 'http://codeboje.de/tumblr-with-python/',\n",
        " 'http://www.pythondiary.com/blog/May.19,2013/dvd-collection-source-code-now-available.html',\n",
        " 'http://www.pythondiary.com/blog/May.19,2013/python-script-encode-django-templates.html',\n",
        " 'http://pycon.blogspot.com/2013/05/pycon-2014-begins-call-for-launch-day.html',\n",
        " 'http://python4kids.wordpress.com/2013/05/19/661/',\n",
        " 'http://holgerkrekel.net/2013/05/19/pep438-is-live-speed-up-python-package-installs-now/',\n",
        " 'http://txzone.net/2013/05/kivy-1-7-0-is-out/',\n",
        " 'http://feedproxy.google.com/~r/TwistedMatrixLaboratories/~3/f1Hs3pETcpc/migration-report.html',\n",
        " 'http://www.gefira.pl/blog/2013/05/18/zato-1-0-the-next-generation-esb-and-application-server-open-source-in-python/',\n",
        " 'http://scummos.blogspot.com/2013/05/kdev-python-151-released.html',\n",
        " 'http://learnpython.wordpress.com/2013/01/19/another-quick-python-deal/',\n",
        " 'http://nuitka.net/posts/nuitka-release-043.html',\n",
        " 'http://jugad2.blogspot.com/2013/05/python-inspect-module-is-powerful.html',\n",
        " 'http://pyrseas.wordpress.com/2013/05/17/pyrseas-contributions-solicited/',\n",
        " 'http://montrealpython.org/2013/05/pycon-day-sponsors/',\n",
        " 'http://reinout.vanrees.org/weblog/2013/05/17/priniciple-philosophy.html',\n",
        " 'http://feedproxy.google.com/~r/PyPyStatusBlog/~3/q2ijxAdBLcQ/pypy-201-bohr-smrrebrd.html',\n",
        " 'http://reinout.vanrees.org/weblog/2013/05/16/web-of-stuff.html',\n",
        " 'http://reinout.vanrees.org/weblog/2013/05/16/planting-open-source-seeds.html',\n",
        " 'http://www.tryton.org/posts/last-maintenance-releases-for-series-18.html',\n",
        " 'http://reinout.vanrees.org/weblog/2013/05/16/advanced-python-metaclasses.html',\n",
        " 'http://reinout.vanrees.org/weblog/2013/05/15/thread-profiling-python.html',\n",
        " 'http://reinout.vanrees.org/weblog/2013/05/15/brandon-rhodes.html',\n",
        " 'http://reinout.vanrees.org/weblog/2013/05/15/imaginative-programmer.html']"
       ]
      }
     ],
     "prompt_number": 17
    },
    {
     "cell_type": "markdown",
     "metadata": {},
     "source": [
      "We can also slice the \"list\" to access whatever data we need, by creating/copying it into another list. "
     ]
    },
    {
     "cell_type": "code",
     "collapsed": false,
     "input": [
      "links_one = []\n",
      "for i in planet_python.entries[:5]:\n",
      "    links_one.append(i.link.encode('utf-8'))\n",
      "links_one"
     ],
     "language": "python",
     "metadata": {},
     "outputs": [
      {
       "output_type": "pyout",
       "prompt_number": 18,
       "text": [
        "['http://www.pythondiary.com/blog/May.19,2013/looking-advertising-proposals.html',\n",
        " 'http://codeboje.de/tumblr-with-python/',\n",
        " 'http://www.pythondiary.com/blog/May.19,2013/dvd-collection-source-code-now-available.html',\n",
        " 'http://www.pythondiary.com/blog/May.19,2013/python-script-encode-django-templates.html',\n",
        " 'http://pycon.blogspot.com/2013/05/pycon-2014-begins-call-for-launch-day.html']"
       ]
      }
     ],
     "prompt_number": 18
    },
    {
     "cell_type": "markdown",
     "metadata": {},
     "source": [
      "Now we can use `for i in hack.entries[:]:` without index numbers inclusive or exclusive to get a copy of the list for iteration. Ie. `for i in hack.entries[1:6]:` where index position 1 is inclusive and 6 would be exclusive. Below, we ask for the first two items.  "
     ]
    },
    {
     "cell_type": "code",
     "collapsed": false,
     "input": [
      "hack_dict = []\n",
      "for i in hack.entries[:2]:\n",
      "    hack_dict.append({'title':i.title.encode('utf-8'), 'url':i.link.encode('utf-8'), 'summary':i.summary.encode('utf-8')})\n",
      "hack_dict"
     ],
     "language": "python",
     "metadata": {},
     "outputs": [
      {
       "output_type": "pyout",
       "prompt_number": 19,
       "text": [
        "[{'summary': 'Laser cutter owners may find this online box design tool which [Jon] built quite useful. It&#8217;s got a few more joint options than the Inkscape box design add-on does. Apparently the US Navy has the ability to bring down drones in a flaming pile of laser-caused death. [Thanks Joshua] [Michail] has been working on a [&#8230;]<img alt=\"\" border=\"0\" height=\"1\" src=\"http://stats.wordpress.com/b.gif?host=hackaday.com&#038;blog=4779443&#038;post=98186&#038;subd=hackadaycom&#038;ref=&#038;feed=1\" width=\"1\" />',\n",
        "  'title': 'Hackaday Links: Sunday, May 19th, 2013',\n",
        "  'url': 'http://feedproxy.google.com/~r/hackaday/LgoM/~3/h48k1BgqUaw/'},\n",
        " {'summary': 'One aspect of the Raspberry Pi that has always challenged us is the power supply. It was a great idea to power the board from a standard micro-USB\\xc2\\xa0port because economy of scale makes phone chargers (even in the 1A range necessary for stable operation of the RPi) cheap and easy to acquire. The thing we [&#8230;]<img alt=\"\" border=\"0\" height=\"1\" src=\"http://stats.wordpress.com/b.gif?host=hackaday.com&#038;blog=4779443&#038;post=98166&#038;subd=hackadaycom&#038;ref=&#038;feed=1\" width=\"1\" />',\n",
        "  'title': 'ATX Raspi is a smart power source for Raspberry Pi',\n",
        "  'url': 'http://feedproxy.google.com/~r/hackaday/LgoM/~3/ucspkFVdN0U/'}]"
       ]
      }
     ],
     "prompt_number": 19
    },
    {
     "cell_type": "markdown",
     "metadata": {},
     "source": [
      "### Time / Date"
     ]
    },
    {
     "cell_type": "markdown",
     "metadata": {},
     "source": [
      "Time and date are imporant factors in feed parsing for a myriad of reasons. One reason is becuase the relavancy of the item may degrade over time. Luckily the Feedparser package includes some nice convinenice methods to access time/date data to use how we please. The published_parsed item is a Python 9-tuple that is easy to manipulate into any format required for storage into a database datetime column, for example. "
     ]
    },
    {
     "cell_type": "code",
     "collapsed": false,
     "input": [
      "#time\n",
      "# Go here to learn about formatting times: http://docs.python.org/2/library/time.html#time.strftime\n",
      "from time import strftime\n",
      "for i in planet_python.entries[:5]:\n",
      "    print 'Feed Published Time: ' + i.published + '\\n' + 'My Formatted time: ' + strftime(\"%H:%M:%S %z %Z on %a, %d %b %Y\", i.published_parsed)\n",
      "    print '\\n'"
     ],
     "language": "python",
     "metadata": {},
     "outputs": [
      {
       "output_type": "stream",
       "stream": "stdout",
       "text": [
        "Feed Published Time: Sun, 19 May 2013 23:41:20 +0000\n",
        "My Formatted time: 23:41:20 -0700 MST on Sun, 19 May 2013\n",
        "\n",
        "\n",
        "Feed Published Time: Sun, 19 May 2013 21:31:05 +0000\n",
        "My Formatted time: 21:31:05 -0700 MST on Sun, 19 May 2013\n",
        "\n",
        "\n",
        "Feed Published Time: Sun, 19 May 2013 17:41:21 +0000\n",
        "My Formatted time: 17:41:21 -0700 MST on Sun, 19 May 2013\n",
        "\n",
        "\n",
        "Feed Published Time: Sun, 19 May 2013 17:41:21 +0000\n",
        "My Formatted time: 17:41:21 -0700 MST on Sun, 19 May 2013\n",
        "\n",
        "\n",
        "Feed Published Time: Sun, 19 May 2013 18:20:42 +0000\n",
        "My Formatted time: 18:20:42 -0700 MST on Sun, 19 May 2013\n",
        "\n",
        "\n"
       ]
      }
     ],
     "prompt_number": 20
    },
    {
     "cell_type": "markdown",
     "metadata": {},
     "source": [
      "### Revisit Etags / Last-Modified  "
     ]
    },
    {
     "cell_type": "markdown",
     "metadata": {},
     "source": [
      "As I tried to explain above these http methods could be extremly useful as a way to check the status of the respective feeds. I've looked at several feed projects implementing feedparser and did not utilize this method to check on the status of the feed. I am not totally sure what that means as it may prove to be an ineffective way to check on the feed status. I plan on implementing this and will report back what I find..."
     ]
    },
    {
     "cell_type": "code",
     "collapsed": false,
     "input": [
      "# Lets revisit the modified and etag headers to use this library effictively...\n",
      "# I left this running for about three hours before I ran this request / response cycle\n",
      "hack = feedparser.parse('http://www.hackaday.com/rss.xml', etag=h_tag, modified=h_mod)\n",
      "planet_python = feedparser.parse('http://planet.python.org/rss20.xml',etag=p_tag,  modified=p_mod)"
     ],
     "language": "python",
     "metadata": {},
     "outputs": [],
     "prompt_number": 21
    },
    {
     "cell_type": "code",
     "collapsed": false,
     "input": [
      "h_mod = hack.modified\n",
      "h_mod"
     ],
     "language": "python",
     "metadata": {},
     "outputs": [
      {
       "ename": "AttributeError",
       "evalue": "object has no attribute 'modified'",
       "output_type": "pyerr",
       "traceback": [
        "\u001b[0;31m---------------------------------------------------------------------------\u001b[0m\n\u001b[0;31mAttributeError\u001b[0m                            Traceback (most recent call last)",
        "\u001b[0;32m<ipython-input-23-7e9a4afcf0f8>\u001b[0m in \u001b[0;36m<module>\u001b[0;34m()\u001b[0m\n\u001b[0;32m----> 1\u001b[0;31m \u001b[0mh_mod\u001b[0m \u001b[0;34m=\u001b[0m \u001b[0mhack\u001b[0m\u001b[0;34m.\u001b[0m\u001b[0mmodified\u001b[0m\u001b[0;34m\u001b[0m\u001b[0m\n\u001b[0m\u001b[1;32m      2\u001b[0m \u001b[0mh_mod\u001b[0m\u001b[0;34m\u001b[0m\u001b[0m\n",
        "\u001b[0;32m/Users/michaelmartinez/.virtualenvs/iPynotebook/lib/python2.7/site-packages/feedparser.pyc\u001b[0m in \u001b[0;36m__getattr__\u001b[0;34m(self, key)\u001b[0m\n\u001b[1;32m    414\u001b[0m             \u001b[0;32mreturn\u001b[0m \u001b[0mself\u001b[0m\u001b[0;34m.\u001b[0m\u001b[0m__getitem__\u001b[0m\u001b[0;34m(\u001b[0m\u001b[0mkey\u001b[0m\u001b[0;34m)\u001b[0m\u001b[0;34m\u001b[0m\u001b[0m\n\u001b[1;32m    415\u001b[0m         \u001b[0;32mexcept\u001b[0m \u001b[0mKeyError\u001b[0m\u001b[0;34m:\u001b[0m\u001b[0;34m\u001b[0m\u001b[0m\n\u001b[0;32m--> 416\u001b[0;31m             \u001b[0;32mraise\u001b[0m \u001b[0mAttributeError\u001b[0m\u001b[0;34m,\u001b[0m \u001b[0;34m\"object has no attribute '%s'\"\u001b[0m \u001b[0;34m%\u001b[0m \u001b[0mkey\u001b[0m\u001b[0;34m\u001b[0m\u001b[0m\n\u001b[0m\u001b[1;32m    417\u001b[0m \u001b[0;34m\u001b[0m\u001b[0m\n\u001b[1;32m    418\u001b[0m     \u001b[0;32mdef\u001b[0m \u001b[0m__hash__\u001b[0m\u001b[0;34m(\u001b[0m\u001b[0mself\u001b[0m\u001b[0;34m)\u001b[0m\u001b[0;34m:\u001b[0m\u001b[0;34m\u001b[0m\u001b[0m\n",
        "\u001b[0;31mAttributeError\u001b[0m: object has no attribute 'modified'"
       ]
      }
     ],
     "prompt_number": 23
    },
    {
     "cell_type": "code",
     "collapsed": false,
     "input": [
      "h_tag = hack.etag\n",
      "h_tag"
     ],
     "language": "python",
     "metadata": {},
     "outputs": [
      {
       "ename": "AttributeError",
       "evalue": "object has no attribute 'etag'",
       "output_type": "pyerr",
       "traceback": [
        "\u001b[0;31m---------------------------------------------------------------------------\u001b[0m\n\u001b[0;31mAttributeError\u001b[0m                            Traceback (most recent call last)",
        "\u001b[0;32m<ipython-input-24-569f4162a64d>\u001b[0m in \u001b[0;36m<module>\u001b[0;34m()\u001b[0m\n\u001b[0;32m----> 1\u001b[0;31m \u001b[0mh_tag\u001b[0m \u001b[0;34m=\u001b[0m \u001b[0mhack\u001b[0m\u001b[0;34m.\u001b[0m\u001b[0metag\u001b[0m\u001b[0;34m\u001b[0m\u001b[0m\n\u001b[0m\u001b[1;32m      2\u001b[0m \u001b[0mh_tag\u001b[0m\u001b[0;34m\u001b[0m\u001b[0m\n",
        "\u001b[0;32m/Users/michaelmartinez/.virtualenvs/iPynotebook/lib/python2.7/site-packages/feedparser.pyc\u001b[0m in \u001b[0;36m__getattr__\u001b[0;34m(self, key)\u001b[0m\n\u001b[1;32m    414\u001b[0m             \u001b[0;32mreturn\u001b[0m \u001b[0mself\u001b[0m\u001b[0;34m.\u001b[0m\u001b[0m__getitem__\u001b[0m\u001b[0;34m(\u001b[0m\u001b[0mkey\u001b[0m\u001b[0;34m)\u001b[0m\u001b[0;34m\u001b[0m\u001b[0m\n\u001b[1;32m    415\u001b[0m         \u001b[0;32mexcept\u001b[0m \u001b[0mKeyError\u001b[0m\u001b[0;34m:\u001b[0m\u001b[0;34m\u001b[0m\u001b[0m\n\u001b[0;32m--> 416\u001b[0;31m             \u001b[0;32mraise\u001b[0m \u001b[0mAttributeError\u001b[0m\u001b[0;34m,\u001b[0m \u001b[0;34m\"object has no attribute '%s'\"\u001b[0m \u001b[0;34m%\u001b[0m \u001b[0mkey\u001b[0m\u001b[0;34m\u001b[0m\u001b[0m\n\u001b[0m\u001b[1;32m    417\u001b[0m \u001b[0;34m\u001b[0m\u001b[0m\n\u001b[1;32m    418\u001b[0m     \u001b[0;32mdef\u001b[0m \u001b[0m__hash__\u001b[0m\u001b[0;34m(\u001b[0m\u001b[0mself\u001b[0m\u001b[0;34m)\u001b[0m\u001b[0;34m:\u001b[0m\u001b[0;34m\u001b[0m\u001b[0m\n",
        "\u001b[0;31mAttributeError\u001b[0m: object has no attribute 'etag'"
       ]
      }
     ],
     "prompt_number": 24
    },
    {
     "cell_type": "code",
     "collapsed": false,
     "input": [
      "hack.status"
     ],
     "language": "python",
     "metadata": {},
     "outputs": [
      {
       "output_type": "pyout",
       "prompt_number": 22,
       "text": [
        "301"
       ]
      }
     ],
     "prompt_number": 22
    },
    {
     "cell_type": "code",
     "collapsed": false,
     "input": [
      "p_tag = planet_python.etag\n",
      "p_tag"
     ],
     "language": "python",
     "metadata": {},
     "outputs": [
      {
       "output_type": "pyout",
       "prompt_number": 25,
       "text": [
        "u'\"17d8206-c0c4e-4dd1fe032e880\"'"
       ]
      }
     ],
     "prompt_number": 25
    },
    {
     "cell_type": "code",
     "collapsed": false,
     "input": [
      "p_mod = planet_python.modified\n",
      "p_mod"
     ],
     "language": "python",
     "metadata": {},
     "outputs": [
      {
       "ename": "AttributeError",
       "evalue": "object has no attribute 'modified'",
       "output_type": "pyerr",
       "traceback": [
        "\u001b[0;31m---------------------------------------------------------------------------\u001b[0m\n\u001b[0;31mAttributeError\u001b[0m                            Traceback (most recent call last)",
        "\u001b[0;32m<ipython-input-26-71aec7e6b70b>\u001b[0m in \u001b[0;36m<module>\u001b[0;34m()\u001b[0m\n\u001b[0;32m----> 1\u001b[0;31m \u001b[0mp_mod\u001b[0m \u001b[0;34m=\u001b[0m \u001b[0mplanet_python\u001b[0m\u001b[0;34m.\u001b[0m\u001b[0mmodified\u001b[0m\u001b[0;34m\u001b[0m\u001b[0m\n\u001b[0m\u001b[1;32m      2\u001b[0m \u001b[0mp_mod\u001b[0m\u001b[0;34m\u001b[0m\u001b[0m\n",
        "\u001b[0;32m/Users/michaelmartinez/.virtualenvs/iPynotebook/lib/python2.7/site-packages/feedparser.pyc\u001b[0m in \u001b[0;36m__getattr__\u001b[0;34m(self, key)\u001b[0m\n\u001b[1;32m    414\u001b[0m             \u001b[0;32mreturn\u001b[0m \u001b[0mself\u001b[0m\u001b[0;34m.\u001b[0m\u001b[0m__getitem__\u001b[0m\u001b[0;34m(\u001b[0m\u001b[0mkey\u001b[0m\u001b[0;34m)\u001b[0m\u001b[0;34m\u001b[0m\u001b[0m\n\u001b[1;32m    415\u001b[0m         \u001b[0;32mexcept\u001b[0m \u001b[0mKeyError\u001b[0m\u001b[0;34m:\u001b[0m\u001b[0;34m\u001b[0m\u001b[0m\n\u001b[0;32m--> 416\u001b[0;31m             \u001b[0;32mraise\u001b[0m \u001b[0mAttributeError\u001b[0m\u001b[0;34m,\u001b[0m \u001b[0;34m\"object has no attribute '%s'\"\u001b[0m \u001b[0;34m%\u001b[0m \u001b[0mkey\u001b[0m\u001b[0;34m\u001b[0m\u001b[0m\n\u001b[0m\u001b[1;32m    417\u001b[0m \u001b[0;34m\u001b[0m\u001b[0m\n\u001b[1;32m    418\u001b[0m     \u001b[0;32mdef\u001b[0m \u001b[0m__hash__\u001b[0m\u001b[0;34m(\u001b[0m\u001b[0mself\u001b[0m\u001b[0;34m)\u001b[0m\u001b[0;34m:\u001b[0m\u001b[0;34m\u001b[0m\u001b[0m\n",
        "\u001b[0;31mAttributeError\u001b[0m: object has no attribute 'modified'"
       ]
      }
     ],
     "prompt_number": 26
    },
    {
     "cell_type": "code",
     "collapsed": false,
     "input": [
      "planet_python.status"
     ],
     "language": "python",
     "metadata": {},
     "outputs": [
      {
       "output_type": "pyout",
       "prompt_number": 27,
       "text": [
        "304"
       ]
      }
     ],
     "prompt_number": 27
    },
    {
     "cell_type": "code",
     "collapsed": false,
     "input": [
      "hack.debug_message"
     ],
     "language": "python",
     "metadata": {},
     "outputs": [
      {
       "output_type": "pyout",
       "prompt_number": 28,
       "text": [
        "'The feed has not changed since you last checked, so the server sent no data.  This is a feature, not a bug!'"
       ]
      }
     ],
     "prompt_number": 28
    },
    {
     "cell_type": "code",
     "collapsed": false,
     "input": [
      "planet_python.debug_message"
     ],
     "language": "python",
     "metadata": {},
     "outputs": [
      {
       "output_type": "pyout",
       "prompt_number": 29,
       "text": [
        "'The feed has not changed since you last checked, so the server sent no data.  This is a feature, not a bug!'"
       ]
      }
     ],
     "prompt_number": 29
    },
    {
     "cell_type": "markdown",
     "metadata": {},
     "source": [
      "I really hope this proves useful as I could not find a tutorial or demo using this package/library. Thanks for reading! "
     ]
    }
   ],
   "metadata": {}
  }
 ]
}